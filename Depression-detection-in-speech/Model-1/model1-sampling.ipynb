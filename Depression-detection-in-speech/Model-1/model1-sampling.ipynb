{
 "cells": [
  {
   "cell_type": "markdown",
   "id": "217ffb49",
   "metadata": {
    "papermill": {
     "duration": 0.002363,
     "end_time": "2022-11-19T11:21:53.915657",
     "exception": false,
     "start_time": "2022-11-19T11:21:53.913294",
     "status": "completed"
    },
    "tags": []
   },
   "source": [
    "**Random sampling 3000 spectogram of each class**"
   ]
  },
  {
   "cell_type": "code",
   "execution_count": 1,
   "id": "fb891b82",
   "metadata": {
    "execution": {
     "iopub.execute_input": "2022-11-19T11:21:53.920229Z",
     "iopub.status.busy": "2022-11-19T11:21:53.919792Z",
     "iopub.status.idle": "2022-11-19T11:23:49.336653Z",
     "shell.execute_reply": "2022-11-19T11:23:49.335594Z"
    },
    "papermill": {
     "duration": 115.422461,
     "end_time": "2022-11-19T11:23:49.339582",
     "exception": false,
     "start_time": "2022-11-19T11:21:53.917121",
     "status": "completed"
    },
    "tags": []
   },
   "outputs": [
    {
     "ename": "ModuleNotFoundError",
     "evalue": "No module named 'cv2'",
     "output_type": "error",
     "traceback": [
      "\u001b[0;31m---------------------------------------------------------------------------\u001b[0m",
      "\u001b[0;31mModuleNotFoundError\u001b[0m                       Traceback (most recent call last)",
      "Cell \u001b[0;32mIn[1], line 2\u001b[0m\n\u001b[1;32m      1\u001b[0m \u001b[38;5;28;01mimport\u001b[39;00m \u001b[38;5;21;01mnumpy\u001b[39;00m \u001b[38;5;28;01mas\u001b[39;00m \u001b[38;5;21;01mnp\u001b[39;00m\n\u001b[0;32m----> 2\u001b[0m \u001b[38;5;28;01mimport\u001b[39;00m \u001b[38;5;21;01mcv2\u001b[39;00m\n\u001b[1;32m      3\u001b[0m \u001b[38;5;28;01mimport\u001b[39;00m \u001b[38;5;21;01mos\u001b[39;00m\n\u001b[1;32m      5\u001b[0m os\u001b[38;5;241m.\u001b[39mmkdir(\u001b[38;5;124m'\u001b[39m\u001b[38;5;124m./image_data/\u001b[39m\u001b[38;5;124m'\u001b[39m)\n",
      "\u001b[0;31mModuleNotFoundError\u001b[0m: No module named 'cv2'"
     ]
    }
   ],
   "source": [
    "import numpy as np\n",
    "import cv2\n",
    "import os\n",
    "\n",
    "os.mkdir('./image_data/')\n",
    "os.mkdir('./image_data/0/')\n",
    "os.mkdir('./image_data/1/')\n",
    "\n",
    "for cl in os.listdir('../input/model1-spectogram/raw_data_img/'):\n",
    "    for c in range(3000):\n",
    "        files = os.listdir('../input/model1-spectogram/raw_data_img/'+cl)\n",
    "        randomfiles = np.random.choice(files, 3000)\n",
    "    count=0\n",
    "    for j in randomfiles:\n",
    "        img=cv2.imread('../input/model1-spectogram/raw_data_img/'+cl+'/'+j)\n",
    "        cv2.imwrite('./image_data/'+cl+'/'+str(count)+'.jpg',img)\n",
    "        count+=1"
   ]
  }
 ],
 "metadata": {
  "kernelspec": {
   "display_name": "Python 3",
   "language": "python",
   "name": "python3"
  },
  "language_info": {
   "codemirror_mode": {
    "name": "ipython",
    "version": 3
   },
   "file_extension": ".py",
   "mimetype": "text/x-python",
   "name": "python",
   "nbconvert_exporter": "python",
   "pygments_lexer": "ipython3",
   "version": "3.11.7"
  },
  "papermill": {
   "default_parameters": {},
   "duration": 126.979045,
   "end_time": "2022-11-19T11:23:49.861245",
   "environment_variables": {},
   "exception": null,
   "input_path": "__notebook__.ipynb",
   "output_path": "__notebook__.ipynb",
   "parameters": {},
   "start_time": "2022-11-19T11:21:42.882200",
   "version": "2.3.4"
  }
 },
 "nbformat": 4,
 "nbformat_minor": 5
}
